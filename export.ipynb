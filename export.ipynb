{
 "cells": [
  {
   "cell_type": "markdown",
   "id": "f6960dcb-f790-4fee-98ea-3ff874b679fa",
   "metadata": {},
   "source": [
    "# How to export a jupyter notebook into a python script"
   ]
  },
  {
   "cell_type": "markdown",
   "id": "364bc565-777c-4476-8a0c-78940a1d3d85",
   "metadata": {},
   "source": [
    "Make sure `nbdev` is installed:"
   ]
  },
  {
   "cell_type": "code",
   "execution_count": 4,
   "id": "e168a1b3-c2bc-4d6a-95e3-b376089f68e1",
   "metadata": {},
   "outputs": [
    {
     "name": "stdout",
     "output_type": "stream",
     "text": [
      "\u001b[33mDEPRECATION: Configuring installation scheme with distutils config files is deprecated and will no longer work in the near future. If you are using a Homebrew or Linuxbrew Python, please see discussion at https://github.com/Homebrew/homebrew-core/issues/76621\u001b[0m\n",
      "Collecting nbdev\n",
      "  Downloading nbdev-2.2.6-py3-none-any.whl (62 kB)\n",
      "     |████████████████████████████████| 62 kB 2.7 MB/s            \n",
      "\u001b[?25hRequirement already satisfied: fastcore>=1.5.19 in /usr/local/lib/python3.9/site-packages (from nbdev) (1.5.21)\n",
      "Requirement already satisfied: PyYAML in /usr/local/lib/python3.9/site-packages (from nbdev) (6.0)\n",
      "Collecting ghapi\n",
      "  Downloading ghapi-1.0.1-py3-none-any.whl (58 kB)\n",
      "     |████████████████████████████████| 58 kB 12.2 MB/s            \n",
      "\u001b[?25hCollecting execnb>=0.0.10\n",
      "  Downloading execnb-0.1.2-py3-none-any.whl (14 kB)\n",
      "Collecting astunparse\n",
      "  Downloading astunparse-1.6.3-py2.py3-none-any.whl (12 kB)\n",
      "Requirement already satisfied: ipython in /usr/local/lib/python3.9/site-packages (from execnb>=0.0.10->nbdev) (8.4.0)\n",
      "Requirement already satisfied: packaging in /usr/local/lib/python3.9/site-packages (from fastcore>=1.5.19->nbdev) (21.3)\n",
      "Requirement already satisfied: pip in /usr/local/lib/python3.9/site-packages (from fastcore>=1.5.19->nbdev) (21.3.1)\n",
      "Requirement already satisfied: six<2.0,>=1.6.1 in /usr/local/lib/python3.9/site-packages (from astunparse->nbdev) (1.16.0)\n",
      "Requirement already satisfied: wheel<1.0,>=0.23.0 in /usr/local/lib/python3.9/site-packages (from astunparse->nbdev) (0.37.1)\n",
      "Requirement already satisfied: traitlets>=5 in /usr/local/lib/python3.9/site-packages (from ipython->execnb>=0.0.10->nbdev) (5.3.0)\n",
      "Requirement already satisfied: stack-data in /usr/local/lib/python3.9/site-packages (from ipython->execnb>=0.0.10->nbdev) (0.4.0)\n",
      "Requirement already satisfied: pexpect>4.3 in /usr/local/lib/python3.9/site-packages (from ipython->execnb>=0.0.10->nbdev) (4.8.0)\n",
      "Requirement already satisfied: appnope in /usr/local/lib/python3.9/site-packages (from ipython->execnb>=0.0.10->nbdev) (0.1.3)\n",
      "Requirement already satisfied: backcall in /usr/local/lib/python3.9/site-packages (from ipython->execnb>=0.0.10->nbdev) (0.2.0)\n",
      "Requirement already satisfied: jedi>=0.16 in /usr/local/lib/python3.9/site-packages (from ipython->execnb>=0.0.10->nbdev) (0.18.1)\n",
      "Requirement already satisfied: pygments>=2.4.0 in /usr/local/lib/python3.9/site-packages (from ipython->execnb>=0.0.10->nbdev) (2.13.0)\n",
      "Requirement already satisfied: pickleshare in /usr/local/lib/python3.9/site-packages (from ipython->execnb>=0.0.10->nbdev) (0.7.5)\n",
      "Requirement already satisfied: setuptools>=18.5 in /usr/local/lib/python3.9/site-packages (from ipython->execnb>=0.0.10->nbdev) (60.5.0)\n",
      "Requirement already satisfied: prompt-toolkit!=3.0.0,!=3.0.1,<3.1.0,>=2.0.0 in /usr/local/lib/python3.9/site-packages (from ipython->execnb>=0.0.10->nbdev) (3.0.30)\n",
      "Requirement already satisfied: matplotlib-inline in /usr/local/lib/python3.9/site-packages (from ipython->execnb>=0.0.10->nbdev) (0.1.6)\n",
      "Requirement already satisfied: decorator in /usr/local/lib/python3.9/site-packages (from ipython->execnb>=0.0.10->nbdev) (5.1.1)\n",
      "Requirement already satisfied: pyparsing!=3.0.5,>=2.0.2 in /usr/local/lib/python3.9/site-packages (from packaging->fastcore>=1.5.19->nbdev) (3.0.9)\n",
      "Requirement already satisfied: parso<0.9.0,>=0.8.0 in /usr/local/lib/python3.9/site-packages (from jedi>=0.16->ipython->execnb>=0.0.10->nbdev) (0.8.3)\n",
      "Requirement already satisfied: ptyprocess>=0.5 in /usr/local/lib/python3.9/site-packages (from pexpect>4.3->ipython->execnb>=0.0.10->nbdev) (0.7.0)\n",
      "Requirement already satisfied: wcwidth in /usr/local/lib/python3.9/site-packages (from prompt-toolkit!=3.0.0,!=3.0.1,<3.1.0,>=2.0.0->ipython->execnb>=0.0.10->nbdev) (0.2.5)\n",
      "Requirement already satisfied: pure-eval in /usr/local/lib/python3.9/site-packages (from stack-data->ipython->execnb>=0.0.10->nbdev) (0.2.2)\n",
      "Requirement already satisfied: executing in /usr/local/lib/python3.9/site-packages (from stack-data->ipython->execnb>=0.0.10->nbdev) (0.10.0)\n",
      "Requirement already satisfied: asttokens in /usr/local/lib/python3.9/site-packages (from stack-data->ipython->execnb>=0.0.10->nbdev) (2.0.8)\n",
      "Installing collected packages: ghapi, execnb, astunparse, nbdev\n",
      "\u001b[33m  DEPRECATION: Configuring installation scheme with distutils config files is deprecated and will no longer work in the near future. If you are using a Homebrew or Linuxbrew Python, please see discussion at https://github.com/Homebrew/homebrew-core/issues/76621\u001b[0m\n",
      "\u001b[33m  DEPRECATION: Configuring installation scheme with distutils config files is deprecated and will no longer work in the near future. If you are using a Homebrew or Linuxbrew Python, please see discussion at https://github.com/Homebrew/homebrew-core/issues/76621\u001b[0m\n",
      "\u001b[33m  DEPRECATION: Configuring installation scheme with distutils config files is deprecated and will no longer work in the near future. If you are using a Homebrew or Linuxbrew Python, please see discussion at https://github.com/Homebrew/homebrew-core/issues/76621\u001b[0m\n",
      "\u001b[33m  DEPRECATION: Configuring installation scheme with distutils config files is deprecated and will no longer work in the near future. If you are using a Homebrew or Linuxbrew Python, please see discussion at https://github.com/Homebrew/homebrew-core/issues/76621\u001b[0m\n",
      "\u001b[33mDEPRECATION: Configuring installation scheme with distutils config files is deprecated and will no longer work in the near future. If you are using a Homebrew or Linuxbrew Python, please see discussion at https://github.com/Homebrew/homebrew-core/issues/76621\u001b[0m\n",
      "Successfully installed astunparse-1.6.3 execnb-0.1.2 ghapi-1.0.1 nbdev-2.2.6\n",
      "\u001b[33mWARNING: You are using pip version 21.3.1; however, version 22.2.2 is available.\n",
      "You should consider upgrading via the '/usr/local/opt/python@3.9/bin/python3.9 -m pip install --upgrade pip' command.\u001b[0m\n"
     ]
    }
   ],
   "source": [
    "!pip install nbdev"
   ]
  },
  {
   "cell_type": "markdown",
   "id": "b882bbe7-3362-4505-a5df-8aa678dc5e1b",
   "metadata": {},
   "source": [
    "Set `#|default_exp {script_name}` directive"
   ]
  },
  {
   "cell_type": "code",
   "execution_count": 28,
   "id": "95eae471-8e79-487a-b3ef-79e58de02dc7",
   "metadata": {},
   "outputs": [],
   "source": [
    "#|default_exp export"
   ]
  },
  {
   "cell_type": "markdown",
   "id": "954d447e-e781-41a2-8b8f-51e47532b084",
   "metadata": {},
   "source": [
    "Each cell that you want to export into the script must begin with an `#|export` directive"
   ]
  },
  {
   "cell_type": "code",
   "execution_count": 29,
   "id": "c7328494-237a-40a6-90a7-b4a000c8e598",
   "metadata": {},
   "outputs": [
    {
     "name": "stdout",
     "output_type": "stream",
     "text": [
      "Hello World!\n"
     ]
    }
   ],
   "source": [
    "#|export\n",
    "print(\"Hello World!\")"
   ]
  },
  {
   "cell_type": "markdown",
   "id": "6b76ef76-f78d-4a33-b3c4-fae7c25c89a4",
   "metadata": {},
   "source": [
    "# Exporting"
   ]
  },
  {
   "cell_type": "code",
   "execution_count": 32,
   "id": "29f9d142-8ce0-49da-a3b8-bf64174c2131",
   "metadata": {},
   "outputs": [],
   "source": [
    "from nbdev.export import nb_export"
   ]
  },
  {
   "cell_type": "code",
   "execution_count": 33,
   "id": "f2d57987-e9b4-4576-a68e-cf4905a68165",
   "metadata": {},
   "outputs": [],
   "source": [
    "nb_export('export.ipynb', '.')"
   ]
  }
 ],
 "metadata": {
  "kernelspec": {
   "display_name": "Python 3 (ipykernel)",
   "language": "python",
   "name": "python3"
  },
  "language_info": {
   "codemirror_mode": {
    "name": "ipython",
    "version": 3
   },
   "file_extension": ".py",
   "mimetype": "text/x-python",
   "name": "python",
   "nbconvert_exporter": "python",
   "pygments_lexer": "ipython3",
   "version": "3.9.10"
  }
 },
 "nbformat": 4,
 "nbformat_minor": 5
}
